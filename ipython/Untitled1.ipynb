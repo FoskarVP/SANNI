{
 "cells": [
  {
   "cell_type": "code",
   "execution_count": 2,
   "metadata": {},
   "outputs": [],
   "source": [
    "from pathlib import Path\n",
    "import numpy as np\n",
    "import matplotlib.pyplot as plt\n",
    "from matrixprofile.discover import snippets\n",
    "import pandas as pd\n",
    "from pyts.image import RecurrencePlot\n",
    "import tensorflow as tf\n",
    "import json\n",
    "from sklearn.model_selection import train_test_split\n",
    "from scipy.ndimage.interpolation import zoom\n"
   ]
  },
  {
   "cell_type": "code",
   "execution_count": 3,
   "metadata": {},
   "outputs": [],
   "source": [
    "def from_np_array(array_string):\n",
    "    array_string = ','.join(array_string.replace('[ ', '[').split())\n",
    "    return np.array(ast.literal_eval(array_string))"
   ]
  },
  {
   "cell_type": "code",
   "execution_count": 4,
   "metadata": {},
   "outputs": [],
   "source": [
    "p = Path('../Dataset/WalkRun1_80_3800_200.csv')\n",
    "\n",
    "df = pd.read_csv(p,converters={\"neighbors\":json.loads})"
   ]
  },
  {
   "cell_type": "code",
   "execution_count": 5,
   "metadata": {},
   "outputs": [
    {
     "data": {
      "text/html": [
       "<div>\n",
       "<style scoped>\n",
       "    .dataframe tbody tr th:only-of-type {\n",
       "        vertical-align: middle;\n",
       "    }\n",
       "\n",
       "    .dataframe tbody tr th {\n",
       "        vertical-align: top;\n",
       "    }\n",
       "\n",
       "    .dataframe thead th {\n",
       "        text-align: right;\n",
       "    }\n",
       "</style>\n",
       "<table border=\"1\" class=\"dataframe\">\n",
       "  <thead>\n",
       "    <tr style=\"text-align: right;\">\n",
       "      <th></th>\n",
       "      <th>Unnamed: 0</th>\n",
       "      <th>key</th>\n",
       "      <th>snippet</th>\n",
       "      <th>fraction</th>\n",
       "      <th>neighbors</th>\n",
       "    </tr>\n",
       "  </thead>\n",
       "  <tbody>\n",
       "    <tr>\n",
       "      <th>0</th>\n",
       "      <td>0</td>\n",
       "      <td>0</td>\n",
       "      <td>[0.55714116 0.56319213 0.56522101 0.57919439 0...</td>\n",
       "      <td>0.311884</td>\n",
       "      <td>[[0.014993, -0.043289, -0.0039098, -0.038406, ...</td>\n",
       "    </tr>\n",
       "    <tr>\n",
       "      <th>1</th>\n",
       "      <td>1</td>\n",
       "      <td>1</td>\n",
       "      <td>[0.47102721 0.44296578 0.4652721  0.50352454 0...</td>\n",
       "      <td>0.430870</td>\n",
       "      <td>[[7.0488, 4.9723, 4.6134, 3.3802, 2.4563, 2.16...</td>\n",
       "    </tr>\n",
       "    <tr>\n",
       "      <th>2</th>\n",
       "      <td>2</td>\n",
       "      <td>2</td>\n",
       "      <td>[0.54415993 0.545161   0.54891279 0.55129218 0...</td>\n",
       "      <td>0.257536</td>\n",
       "      <td>[[-0.038406, 0.001217, 0.0039053, -0.0056399, ...</td>\n",
       "    </tr>\n",
       "  </tbody>\n",
       "</table>\n",
       "</div>"
      ],
      "text/plain": [
       "   Unnamed: 0  key                                            snippet  \\\n",
       "0           0    0  [0.55714116 0.56319213 0.56522101 0.57919439 0...   \n",
       "1           1    1  [0.47102721 0.44296578 0.4652721  0.50352454 0...   \n",
       "2           2    2  [0.54415993 0.545161   0.54891279 0.55129218 0...   \n",
       "\n",
       "   fraction                                          neighbors  \n",
       "0  0.311884  [[0.014993, -0.043289, -0.0039098, -0.038406, ...  \n",
       "1  0.430870  [[7.0488, 4.9723, 4.6134, 3.3802, 2.4563, 2.16...  \n",
       "2  0.257536  [[-0.038406, 0.001217, 0.0039053, -0.0056399, ...  "
      ]
     },
     "execution_count": 5,
     "metadata": {},
     "output_type": "execute_result"
    }
   ],
   "source": [
    "df"
   ]
  },
  {
   "cell_type": "code",
   "execution_count": 6,
   "metadata": {
    "scrolled": true
   },
   "outputs": [],
   "source": [
    "\n",
    "rp = RecurrencePlot(threshold='point')\n",
    "X_rp = rp.fit_transform(np.array(df.neighbors.iloc[0][0]).reshape(1,-1))\n",
    "X=[]\n",
    "y=[]\n",
    "for i,item in df.iterrows():\n",
    "    for j in item.neighbors:\n",
    "        if rp.transform(np.array(j).reshape(1,-1))[0].shape == (300,300):\n",
    "            buf = zoom(rp.transform(np.array(j).reshape(1,-1))[0], 0.25)\n",
    "            X.append(buf)\n",
    "            y.append(item[\"key\"])\n",
    "X=np.stack(np.array(X))\n",
    "y=np.array(y)"
   ]
  },
  {
   "cell_type": "code",
   "execution_count": 7,
   "metadata": {},
   "outputs": [
    {
     "data": {
      "text/plain": [
       "(6703, 75, 75)"
      ]
     },
     "execution_count": 7,
     "metadata": {},
     "output_type": "execute_result"
    }
   ],
   "source": [
    "X.shape"
   ]
  },
  {
   "cell_type": "code",
   "execution_count": 8,
   "metadata": {},
   "outputs": [],
   "source": [
    "y = tf.keras.utils.to_categorical(y)"
   ]
  },
  {
   "cell_type": "code",
   "execution_count": 9,
   "metadata": {},
   "outputs": [
    {
     "ename": "NameError",
     "evalue": "name 'X_train' is not defined",
     "output_type": "error",
     "traceback": [
      "\u001B[1;31m---------------------------------------------------------------------------\u001B[0m",
      "\u001B[1;31mNameError\u001B[0m                                 Traceback (most recent call last)",
      "\u001B[1;32m<ipython-input-9-6d3aa37b6e3d>\u001B[0m in \u001B[0;36m<module>\u001B[1;34m\u001B[0m\n\u001B[1;32m----> 1\u001B[1;33m \u001B[1;32mdel\u001B[0m \u001B[0mX_train\u001B[0m\u001B[1;33m\u001B[0m\u001B[1;33m\u001B[0m\u001B[0m\n\u001B[0m\u001B[0;32m      2\u001B[0m \u001B[1;32mdel\u001B[0m \u001B[0mX_test\u001B[0m\u001B[1;33m\u001B[0m\u001B[1;33m\u001B[0m\u001B[0m\n\u001B[0;32m      3\u001B[0m \u001B[1;32mdel\u001B[0m \u001B[0mX_valid\u001B[0m\u001B[1;33m\u001B[0m\u001B[1;33m\u001B[0m\u001B[0m\n",
      "\u001B[1;31mNameError\u001B[0m: name 'X_train' is not defined"
     ]
    }
   ],
   "source": [
    "del X_train\n",
    "del X_test\n",
    "del X_valid"
   ]
  },
  {
   "cell_type": "code",
   "execution_count": null,
   "metadata": {},
   "outputs": [],
   "source": [
    "X_train, X_test, y_train, y_test = train_test_split(X, y, test_size=0.33, random_state=42)\n"
   ]
  },
  {
   "cell_type": "code",
   "execution_count": null,
   "metadata": {},
   "outputs": [],
   "source": [
    "X_train, X_valid, y_train, y_valid = train_test_split(X_train, y_train, test_size=0.33, random_state=42)"
   ]
  },
  {
   "cell_type": "code",
   "execution_count": null,
   "metadata": {},
   "outputs": [],
   "source": [
    "del X\n",
    "del y"
   ]
  },
  {
   "cell_type": "code",
   "execution_count": null,
   "metadata": {},
   "outputs": [],
   "source": [
    "from keras.layers import TimeDistributed\n",
    "from keras.layers import Reshape\n",
    "from keras.layers import Conv2D,Lambda, Activation, LSTM\n",
    "from keras.utils import to_categorical\n",
    "from keras.models import Model,Input\n",
    "import keras \n",
    "import tensorflow as tf\n",
    "from keras.models import Sequential\n",
    "from keras.layers import Convolution2D, MaxPooling2D, Dropout, Flatten, Dense, Reshape,GlobalAveragePooling2D,AveragePooling2D\n",
    "from keras import backend as K\n",
    "from tensorflow.keras.layers import GRU"
   ]
  },
  {
   "cell_type": "code",
   "execution_count": null,
   "metadata": {},
   "outputs": [],
   "source": [
    "X_train.shape"
   ]
  },
  {
   "cell_type": "code",
   "execution_count": null,
   "metadata": {},
   "outputs": [],
   "source": [
    "def model():\n",
    "    model = Sequential()\n",
    "    input_layer = Input((X_train.shape[2], X_train.shape[2], 1),name=\"img_input\",dtype='float32')\n",
    "    output = Conv2D(128, (5, 5), kernel_initializer='he_normal',  activation='relu')(input_layer)\n",
    "    output = AveragePooling2D(pool_size=(2, 2))(output)\n",
    "    output = Conv2D(128, (5, 5), kernel_initializer='he_normal',  activation='relu')(output)\n",
    "    output = AveragePooling2D(pool_size=(2, 2))(output)\n",
    "    output = Conv2D(64, (5, 5), kernel_initializer='he_normal', activation='relu')(output)\n",
    "    output = GlobalAveragePooling2D()(output)\n",
    "    output = Dropout(0.25)(output)\n",
    "    output = Dense(y_train.shape[1])(output)\n",
    "    y_pred = Activation('softmax', name='softmax')(output)\n",
    "    \n",
    "    \n",
    "    model = Model(inputs=input_layer, outputs=y_pred)\n",
    "    model.summary() \n",
    "    model.compile(loss=\"categorical_crossentropy\", optimizer=\"adam\",metrics=[tf.keras.metrics.Accuracy()])\n",
    "    \n",
    "    return model\n",
    "\n",
    "model = model()"
   ]
  },
  {
   "cell_type": "code",
   "execution_count": null,
   "metadata": {
    "scrolled": false
   },
   "outputs": [],
   "source": [
    "histor = model.fit(X_train,\n",
    "          y_train,\n",
    "          validation_data=(X_valid,y_valid),\n",
    "          #callbacks=[learning_rate_reduction], \n",
    "          batch_size=25, epochs=60)"
   ]
  },
  {
   "cell_type": "code",
   "execution_count": null,
   "metadata": {},
   "outputs": [],
   "source": [
    "pred= model.predict(X_test)\n",
    "np.argmax(pred,axis=-1)\n",
    "y_test_arg = np.argmax(y_test,axis=-1)\n",
    "j = 0\n",
    "for i, item in enumerate(np.argmax(pred,axis=-1)):\n",
    "    if item!=y_test_arg[i]:\n",
    "        j+=1\n",
    "print((len(pred)-j)/len(pred))\n",
    "plt.plot(histor.history[\"loss\"])\n",
    "plt.plot(histor.history[\"val_loss\"])"
   ]
  },
  {
   "cell_type": "code",
   "execution_count": null,
   "metadata": {},
   "outputs": [],
   "source": []
  }
 ],
 "metadata": {
  "kernelspec": {
   "display_name": "Python 3",
   "language": "python",
   "name": "python3"
  },
  "language_info": {
   "codemirror_mode": {
    "name": "ipython",
    "version": 3
   },
   "file_extension": ".py",
   "mimetype": "text/x-python",
   "name": "python",
   "nbconvert_exporter": "python",
   "pygments_lexer": "ipython3",
   "version": "3.8.5"
  }
 },
 "nbformat": 4,
 "nbformat_minor": 4
}