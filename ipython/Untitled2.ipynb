{
 "cells": [
  {
   "cell_type": "code",
   "execution_count": 9,
   "metadata": {},
   "outputs": [],
   "source": [
    "from pathlib import Path\n",
    "import numpy as np\n",
    "import matplotlib.pyplot as plt\n",
    "from matrixprofile.discover import snippets\n",
    "import pandas as pd\n",
    "from pyts.image import RecurrencePlot\n",
    "import tensorflow as tf\n",
    "import json\n",
    "from sklearn.model_selection import train_test_split\n",
    "from scipy.ndimage.interpolation import zoom\n"
   ]
  },
  {
   "cell_type": "code",
   "execution_count": 173,
   "metadata": {},
   "outputs": [
    {
     "name": "stdout",
     "output_type": "stream",
     "text": [
      "[0 2 3 1]\n"
     ]
    }
   ],
   "source": [
    "df = pd.read_csv('lstm.csv',converters={\"data\":lambda x: np.array(json.loads(x)),\n",
    "                                       \"snippet\":lambda x: np.array(json.loads(x))})\n",
    "print(df[\"idx\"].unique())\n",
    "df[\"class\"]=df[\"class\"].apply(lambda x: np.full(300, x))"
   ]
  },
  {
   "cell_type": "code",
   "execution_count": 157,
   "metadata": {},
   "outputs": [],
   "source": [
    "X=np.stack(df[[\"snippet\",\"data\",\"class\"]].apply(lambda x: np.stack(x.values),axis=1))\n",
    "y=df.true.values.reshape(-1,1)"
   ]
  },
  {
   "cell_type": "code",
   "execution_count": 171,
   "metadata": {},
   "outputs": [
    {
     "ename": "TypeError",
     "evalue": "unhashable type: 'numpy.ndarray'",
     "output_type": "error",
     "traceback": [
      "\u001b[1;31m---------------------------------------------------------------------------\u001b[0m",
      "\u001b[1;31mTypeError\u001b[0m                                 Traceback (most recent call last)",
      "\u001b[1;32m<ipython-input-171-8efe37d160ae>\u001b[0m in \u001b[0;36m<module>\u001b[1;34m\u001b[0m\n\u001b[1;32m----> 1\u001b[1;33m \u001b[0mdf\u001b[0m\u001b[1;33m[\u001b[0m\u001b[1;34m\"class\"\u001b[0m\u001b[1;33m]\u001b[0m\u001b[1;33m.\u001b[0m\u001b[0munique\u001b[0m\u001b[1;33m(\u001b[0m\u001b[1;33m)\u001b[0m\u001b[1;33m\u001b[0m\u001b[1;33m\u001b[0m\u001b[0m\n\u001b[0m",
      "\u001b[1;32mE:\\Anaconda\\lib\\site-packages\\pandas\\core\\series.py\u001b[0m in \u001b[0;36munique\u001b[1;34m(self)\u001b[0m\n\u001b[0;32m   1866\u001b[0m         \u001b[0mCategories\u001b[0m \u001b[1;33m(\u001b[0m\u001b[1;36m3\u001b[0m\u001b[1;33m,\u001b[0m \u001b[0mobject\u001b[0m\u001b[1;33m)\u001b[0m\u001b[1;33m:\u001b[0m \u001b[1;33m[\u001b[0m\u001b[1;34m'a'\u001b[0m \u001b[1;33m<\u001b[0m \u001b[1;34m'b'\u001b[0m \u001b[1;33m<\u001b[0m \u001b[1;34m'c'\u001b[0m\u001b[1;33m]\u001b[0m\u001b[1;33m\u001b[0m\u001b[1;33m\u001b[0m\u001b[0m\n\u001b[0;32m   1867\u001b[0m         \"\"\"\n\u001b[1;32m-> 1868\u001b[1;33m         \u001b[0mresult\u001b[0m \u001b[1;33m=\u001b[0m \u001b[0msuper\u001b[0m\u001b[1;33m(\u001b[0m\u001b[1;33m)\u001b[0m\u001b[1;33m.\u001b[0m\u001b[0munique\u001b[0m\u001b[1;33m(\u001b[0m\u001b[1;33m)\u001b[0m\u001b[1;33m\u001b[0m\u001b[1;33m\u001b[0m\u001b[0m\n\u001b[0m\u001b[0;32m   1869\u001b[0m         \u001b[1;32mreturn\u001b[0m \u001b[0mresult\u001b[0m\u001b[1;33m\u001b[0m\u001b[1;33m\u001b[0m\u001b[0m\n\u001b[0;32m   1870\u001b[0m \u001b[1;33m\u001b[0m\u001b[0m\n",
      "\u001b[1;32mE:\\Anaconda\\lib\\site-packages\\pandas\\core\\base.py\u001b[0m in \u001b[0;36munique\u001b[1;34m(self)\u001b[0m\n\u001b[0;32m   1263\u001b[0m                     \u001b[0mresult\u001b[0m \u001b[1;33m=\u001b[0m \u001b[0mnp\u001b[0m\u001b[1;33m.\u001b[0m\u001b[0masarray\u001b[0m\u001b[1;33m(\u001b[0m\u001b[0mresult\u001b[0m\u001b[1;33m)\u001b[0m\u001b[1;33m\u001b[0m\u001b[1;33m\u001b[0m\u001b[0m\n\u001b[0;32m   1264\u001b[0m         \u001b[1;32melse\u001b[0m\u001b[1;33m:\u001b[0m\u001b[1;33m\u001b[0m\u001b[1;33m\u001b[0m\u001b[0m\n\u001b[1;32m-> 1265\u001b[1;33m             \u001b[0mresult\u001b[0m \u001b[1;33m=\u001b[0m \u001b[0munique1d\u001b[0m\u001b[1;33m(\u001b[0m\u001b[0mvalues\u001b[0m\u001b[1;33m)\u001b[0m\u001b[1;33m\u001b[0m\u001b[1;33m\u001b[0m\u001b[0m\n\u001b[0m\u001b[0;32m   1266\u001b[0m \u001b[1;33m\u001b[0m\u001b[0m\n\u001b[0;32m   1267\u001b[0m         \u001b[1;32mreturn\u001b[0m \u001b[0mresult\u001b[0m\u001b[1;33m\u001b[0m\u001b[1;33m\u001b[0m\u001b[0m\n",
      "\u001b[1;32mE:\\Anaconda\\lib\\site-packages\\pandas\\core\\algorithms.py\u001b[0m in \u001b[0;36munique\u001b[1;34m(values)\u001b[0m\n\u001b[0;32m    387\u001b[0m \u001b[1;33m\u001b[0m\u001b[0m\n\u001b[0;32m    388\u001b[0m     \u001b[0mtable\u001b[0m \u001b[1;33m=\u001b[0m \u001b[0mhtable\u001b[0m\u001b[1;33m(\u001b[0m\u001b[0mlen\u001b[0m\u001b[1;33m(\u001b[0m\u001b[0mvalues\u001b[0m\u001b[1;33m)\u001b[0m\u001b[1;33m)\u001b[0m\u001b[1;33m\u001b[0m\u001b[1;33m\u001b[0m\u001b[0m\n\u001b[1;32m--> 389\u001b[1;33m     \u001b[0muniques\u001b[0m \u001b[1;33m=\u001b[0m \u001b[0mtable\u001b[0m\u001b[1;33m.\u001b[0m\u001b[0munique\u001b[0m\u001b[1;33m(\u001b[0m\u001b[0mvalues\u001b[0m\u001b[1;33m)\u001b[0m\u001b[1;33m\u001b[0m\u001b[1;33m\u001b[0m\u001b[0m\n\u001b[0m\u001b[0;32m    390\u001b[0m     \u001b[0muniques\u001b[0m \u001b[1;33m=\u001b[0m \u001b[0m_reconstruct_data\u001b[0m\u001b[1;33m(\u001b[0m\u001b[0muniques\u001b[0m\u001b[1;33m,\u001b[0m \u001b[0moriginal\u001b[0m\u001b[1;33m.\u001b[0m\u001b[0mdtype\u001b[0m\u001b[1;33m,\u001b[0m \u001b[0moriginal\u001b[0m\u001b[1;33m)\u001b[0m\u001b[1;33m\u001b[0m\u001b[1;33m\u001b[0m\u001b[0m\n\u001b[0;32m    391\u001b[0m     \u001b[1;32mreturn\u001b[0m \u001b[0muniques\u001b[0m\u001b[1;33m\u001b[0m\u001b[1;33m\u001b[0m\u001b[0m\n",
      "\u001b[1;32mpandas\\_libs\\hashtable_class_helper.pxi\u001b[0m in \u001b[0;36mpandas._libs.hashtable.PyObjectHashTable.unique\u001b[1;34m()\u001b[0m\n",
      "\u001b[1;32mpandas\\_libs\\hashtable_class_helper.pxi\u001b[0m in \u001b[0;36mpandas._libs.hashtable.PyObjectHashTable._unique\u001b[1;34m()\u001b[0m\n",
      "\u001b[1;31mTypeError\u001b[0m: unhashable type: 'numpy.ndarray'"
     ]
    }
   ],
   "source": [
    "df[\"class\"].unique()"
   ]
  },
  {
   "cell_type": "code",
   "execution_count": 158,
   "metadata": {},
   "outputs": [
    {
     "data": {
      "text/plain": [
       "(6701, 3, 300)"
      ]
     },
     "execution_count": 158,
     "metadata": {},
     "output_type": "execute_result"
    }
   ],
   "source": [
    "X.shape"
   ]
  },
  {
   "cell_type": "code",
   "execution_count": 159,
   "metadata": {},
   "outputs": [],
   "source": [
    "X_train, X_test, y_train, y_test = train_test_split(X, y, test_size=0.33, random_state=42)\n",
    "X_train, X_valid, y_train, y_valid = train_test_split(X_train, y_train, test_size=0.33, random_state=42)"
   ]
  },
  {
   "cell_type": "code",
   "execution_count": 174,
   "metadata": {},
   "outputs": [],
   "source": [
    "from keras.layers import TimeDistributed\n",
    "from keras.layers import Reshape\n",
    "from keras.layers import Conv2D,Lambda, Activation, LSTM\n",
    "from keras.utils import to_categorical\n",
    "from keras.models import Model,Input\n",
    "import keras \n",
    "import tensorflow as tf\n",
    "from keras.models import Sequential\n",
    "from keras.layers import Convolution2D, MaxPooling2D, Dropout, Flatten, Dense, Reshape,GlobalAveragePooling2D,AveragePooling2D\n",
    "from keras import backend as K\n",
    "from tensorflow.keras.layers import GRU,Reshape,Dropout"
   ]
  },
  {
   "cell_type": "code",
   "execution_count": 176,
   "metadata": {},
   "outputs": [
    {
     "name": "stdout",
     "output_type": "stream",
     "text": [
      "Model: \"model_48\"\n",
      "_________________________________________________________________\n",
      "Layer (type)                 Output Shape              Param #   \n",
      "=================================================================\n",
      "img_input (InputLayer)       [(None, 300, 1)]          0         \n",
      "_________________________________________________________________\n",
      "gru_53 (GRU)                 (None, 128)               50304     \n",
      "_________________________________________________________________\n",
      "dropout_3 (Dropout)          (None, 128)               0         \n",
      "_________________________________________________________________\n",
      "dense_49 (Dense)             (None, 1)                 129       \n",
      "=================================================================\n",
      "Total params: 50,433\n",
      "Trainable params: 50,433\n",
      "Non-trainable params: 0\n",
      "_________________________________________________________________\n",
      "Model: \"model_49\"\n",
      "_________________________________________________________________\n",
      "Layer (type)                 Output Shape              Param #   \n",
      "=================================================================\n",
      "img_input (InputLayer)       [(None, 300, 2)]          0         \n",
      "_________________________________________________________________\n",
      "gru_54 (GRU)                 (None, 128)               50688     \n",
      "_________________________________________________________________\n",
      "dropout_4 (Dropout)          (None, 128)               0         \n",
      "_________________________________________________________________\n",
      "dense_50 (Dense)             (None, 1)                 129       \n",
      "=================================================================\n",
      "Total params: 50,817\n",
      "Trainable params: 50,817\n",
      "Non-trainable params: 0\n",
      "_________________________________________________________________\n",
      "Model: \"model_50\"\n",
      "_________________________________________________________________\n",
      "Layer (type)                 Output Shape              Param #   \n",
      "=================================================================\n",
      "img_input (InputLayer)       [(None, 301, 1)]          0         \n",
      "_________________________________________________________________\n",
      "gru_55 (GRU)                 (None, 128)               50304     \n",
      "_________________________________________________________________\n",
      "dropout_5 (Dropout)          (None, 128)               0         \n",
      "_________________________________________________________________\n",
      "dense_51 (Dense)             (None, 1)                 129       \n",
      "=================================================================\n",
      "Total params: 50,433\n",
      "Trainable params: 50,433\n",
      "Non-trainable params: 0\n",
      "_________________________________________________________________\n"
     ]
    }
   ],
   "source": [
    "def get_model():\n",
    "    model = Sequential()\n",
    "    input_layer = Input((300, 1),name=\"img_input\",dtype='float32')\n",
    "    output = GRU(128, kernel_initializer='he_normal',  activation='relu')(input_layer)\n",
    "    output = Dropout(0.2)(output)\n",
    "    output = Dense(1)(output)    \n",
    "    model = Model(inputs=input_layer, outputs=output)\n",
    "    model.summary() \n",
    "    model.compile(loss=\"mse\", optimizer=\"adam\")\n",
    "    \n",
    "    return model\n",
    "\n",
    "def get_model_snippet():\n",
    "    model = Sequential()\n",
    "    input_layer = Input((300,2),name=\"img_input\",dtype='float32')\n",
    "    output = GRU(128, kernel_initializer='he_normal',  activation='relu')(input_layer)\n",
    "    output = Dropout(0.2)(output)\n",
    "    output = Dense(1)(output)    \n",
    "    model = Model(inputs=input_layer, outputs=output)\n",
    "    model.summary() \n",
    "    model.compile(loss=\"mse\", optimizer=\"adam\")\n",
    "    return model\n",
    "    \n",
    "\n",
    "def get_model_class():\n",
    "    model = Sequential()\n",
    "    input_layer = Input((301,1),name=\"img_input\",dtype='float32')\n",
    "    output = GRU(128, kernel_initializer='he_normal',  activation='relu')(input_layer)\n",
    "    output = Dropout(0.2)(output)\n",
    "    output = Dense(1)(output)    \n",
    "    model = Model(inputs=input_layer, outputs=output)\n",
    "    model.summary() \n",
    "    model.compile(loss=\"mse\", optimizer=\"adam\")\n",
    "    return model\n",
    "    \n",
    "    return model\n",
    "model = get_model()\n",
    "model_snippet = get_model_snippet()\n",
    "model_class = get_model_class()"
   ]
  },
  {
   "cell_type": "code",
   "execution_count": 184,
   "metadata": {
    "scrolled": true
   },
   "outputs": [
    {
     "name": "stdout",
     "output_type": "stream",
     "text": [
      "Epoch 1/15\n",
      "121/121 [==============================] - 16s 129ms/step - loss: 1.3510 - val_loss: 1.4756\n",
      "Epoch 2/15\n",
      "121/121 [==============================] - 14s 118ms/step - loss: 1.2972 - val_loss: 1.5439\n",
      "Epoch 3/15\n",
      "121/121 [==============================] - 13s 111ms/step - loss: 1.3043 - val_loss: 1.4586\n",
      "Epoch 4/15\n",
      "121/121 [==============================] - 14s 112ms/step - loss: 1.2954 - val_loss: 1.5261\n",
      "Epoch 5/15\n",
      "121/121 [==============================] - 13s 110ms/step - loss: 1.1568 - val_loss: 1.4450\n",
      "Epoch 6/15\n",
      "121/121 [==============================] - 13s 109ms/step - loss: 1.2314 - val_loss: 1.4637\n",
      "Epoch 7/15\n",
      "121/121 [==============================] - 13s 109ms/step - loss: 1.1480 - val_loss: 1.8942\n",
      "Epoch 8/15\n",
      "121/121 [==============================] - 14s 113ms/step - loss: 1.1321 - val_loss: 1.3366\n",
      "Epoch 9/15\n",
      "121/121 [==============================] - 13s 110ms/step - loss: 1.0763 - val_loss: 1.3716\n",
      "Epoch 10/15\n",
      "121/121 [==============================] - 14s 112ms/step - loss: 1.0464 - val_loss: 1.3510\n",
      "Epoch 11/15\n",
      "121/121 [==============================] - 13s 111ms/step - loss: 0.9399 - val_loss: 1.4283\n",
      "Epoch 12/15\n",
      "121/121 [==============================] - 13s 111ms/step - loss: 0.9377 - val_loss: 1.4600\n",
      "Epoch 13/15\n",
      "121/121 [==============================] - 13s 110ms/step - loss: 0.9770 - val_loss: 1.4377\n",
      "Epoch 14/15\n",
      "121/121 [==============================] - 13s 110ms/step - loss: 1.0208 - val_loss: 1.5178\n",
      "Epoch 15/15\n",
      "121/121 [==============================] - 13s 109ms/step - loss: 0.9511 - val_loss: 1.4511\n"
     ]
    }
   ],
   "source": [
    "histor = model.fit(X_train[:,1],\n",
    "          y_train,\n",
    "          validation_data=(X_valid[:,1],y_valid),\n",
    "          #callbacks=[learning_rate_reduction], \n",
    "          batch_size=25, epochs=15)"
   ]
  },
  {
   "cell_type": "code",
   "execution_count": 185,
   "metadata": {},
   "outputs": [
    {
     "data": {
      "text/plain": [
       "(3007, 2, 300)"
      ]
     },
     "execution_count": 185,
     "metadata": {},
     "output_type": "execute_result"
    }
   ],
   "source": [
    "X_train[:,0:2].shape"
   ]
  },
  {
   "cell_type": "code",
   "execution_count": 186,
   "metadata": {},
   "outputs": [
    {
     "name": "stdout",
     "output_type": "stream",
     "text": [
      "Epoch 1/15\n",
      "121/121 [==============================] - 13s 110ms/step - loss: 1.1796 - val_loss: 1.8530\n",
      "Epoch 2/15\n",
      "121/121 [==============================] - 13s 111ms/step - loss: 1.2187 - val_loss: 1.5673\n",
      "Epoch 3/15\n",
      "121/121 [==============================] - 14s 112ms/step - loss: 1.1789 - val_loss: 1.5439\n",
      "Epoch 4/15\n",
      "121/121 [==============================] - 13s 110ms/step - loss: 1.1070 - val_loss: 1.6277\n",
      "Epoch 5/15\n",
      "121/121 [==============================] - 13s 110ms/step - loss: 1.0962 - val_loss: 1.5675\n",
      "Epoch 6/15\n",
      "121/121 [==============================] - 13s 109ms/step - loss: 1.0174 - val_loss: 1.4903\n",
      "Epoch 7/15\n",
      "121/121 [==============================] - 14s 112ms/step - loss: 1.0769 - val_loss: 1.4753\n",
      "Epoch 8/15\n",
      "121/121 [==============================] - 13s 109ms/step - loss: 0.9896 - val_loss: 1.5950\n",
      "Epoch 9/15\n",
      "121/121 [==============================] - 14s 116ms/step - loss: 0.9659 - val_loss: 1.6805\n",
      "Epoch 10/15\n",
      "121/121 [==============================] - 15s 126ms/step - loss: 0.9834 - val_loss: 1.4481\n",
      "Epoch 11/15\n",
      "121/121 [==============================] - 18s 151ms/step - loss: 0.9264 - val_loss: 1.5684\n",
      "Epoch 12/15\n",
      "121/121 [==============================] - 24s 198ms/step - loss: 1.1092 - val_loss: 1.5943\n",
      "Epoch 13/15\n",
      "121/121 [==============================] - 18s 150ms/step - loss: 0.9755 - val_loss: 1.4739\n",
      "Epoch 14/15\n",
      "121/121 [==============================] - 18s 152ms/step - loss: 0.9339 - val_loss: 1.5092\n",
      "Epoch 15/15\n",
      "121/121 [==============================] - 17s 140ms/step - loss: 0.8973 - val_loss: 1.5012\n"
     ]
    }
   ],
   "source": [
    "\n",
    "histor_snipp = model_snippet.fit(X_train[:,0:2].reshape(-1,300,2),\n",
    "          y_train,\n",
    "          validation_data=(X_valid[:,0:2].reshape(-1,300,2),y_valid),\n",
    "          #callbacks=[learning_rate_reduction], \n",
    "          batch_size=25, epochs=15)"
   ]
  },
  {
   "cell_type": "code",
   "execution_count": 187,
   "metadata": {},
   "outputs": [
    {
     "data": {
      "text/plain": [
       "<matplotlib.legend.Legend at 0x2cab5e21fa0>"
      ]
     },
     "execution_count": 187,
     "metadata": {},
     "output_type": "execute_result"
    },
    {
     "data": {
      "image/png": "[encoded data removed]",
      "text/plain": [
       "<Figure size 432x288 with 1 Axes>"
      ]
     },
     "metadata": {
      "needs_background": "light"
     },
     "output_type": "display_data"
    }
   ],
   "source": [
    "plt.plot(histor.history[\"loss\"],label=\"frame\")\n",
    "plt.plot(histor_snipp.history[\"loss\"],label=\"frame+snippet\")\n",
    "#plt.plot(histor_class.history[\"val_loss\"],label=\"frame+class\")\n",
    "plt.legend()"
   ]
  },
  {
   "cell_type": "code",
   "execution_count": 188,
   "metadata": {},
   "outputs": [
    {
     "data": {
      "text/plain": [
       "<matplotlib.legend.Legend at 0x2cab6eee910>"
      ]
     },
     "execution_count": 188,
     "metadata": {},
     "output_type": "execute_result"
    },
    {
     "data": {
      "image/png": "[encoded data removed]",
      "text/plain": [
       "<Figure size 432x288 with 1 Axes>"
      ]
     },
     "metadata": {
      "needs_background": "light"
     },
     "output_type": "display_data"
    }
   ],
   "source": [
    "plt.plot(histor.history[\"val_loss\"],label=\"frame\")\n",
    "plt.plot(histor_snipp.history[\"val_loss\"],label=\"frame+snippet\")\n",
    "#plt.plot(histor_class.history[\"val_loss\"],label=\"frame+class\")\n",
    "\n",
    "plt.legend()"
   ]
  },
  {
   "cell_type": "code",
   "execution_count": 189,
   "metadata": {},
   "outputs": [
    {
     "name": "stdout",
     "output_type": "stream",
     "text": [
      "mae frame:  0.7576365625652364\n",
      "mae frame_snippet:  0.7648967620820734\n"
     ]
    }
   ],
   "source": [
    "from sklearn.metrics import mean_absolute_error\n",
    "print(\"mae frame: \",mean_absolute_error(y_test, model.predict(X_test[:,1])))\n",
    "print(\"mae frame_snippet: \",mean_absolute_error(y_test, model_snippet.predict(X_test[:,0:2].reshape(-1,300,2))))"
   ]
  },
  {
   "cell_type": "code",
   "execution_count": null,
   "metadata": {},
   "outputs": [],
   "source": []
  },
  {
   "cell_type": "code",
   "execution_count": null,
   "metadata": {},
   "outputs": [],
   "source": []
  }
 ],
 "metadata": {
  "kernelspec": {
   "display_name": "Python 3",
   "language": "python",
   "name": "python3"
  },
  "language_info": {
   "codemirror_mode": {
    "name": "ipython",
    "version": 3
   },
   "file_extension": ".py",
   "mimetype": "text/x-python",
   "name": "python",
   "nbconvert_exporter": "python",
   "pygments_lexer": "ipython3",
   "version": "3.8.5"
  }
 },
 "nbformat": 4,
 "nbformat_minor": 4
}
