{
 "cells": [
  {
   "cell_type": "code",
   "execution_count": 1,
   "metadata": {},
   "outputs": [],
   "source": [
    "from pathlib import Path\n",
    "import numpy as np\n",
    "import matplotlib.pyplot as plt\n",
    "from matrixprofile.discover import snippets\n",
    "import pandas as pd\n",
    "from pyts.image import RecurrencePlot\n",
    "import tensorflow as tf\n",
    "import json\n",
    "from sklearn.model_selection import train_test_split\n",
    "from scipy.ndimage.interpolation import zoom\n"
   ]
  },
  {
   "cell_type": "code",
   "execution_count": 2,
   "metadata": {},
   "outputs": [
    {
     "name": "stdout",
     "output_type": "stream",
     "text": [
      "[0 2 1]\n"
     ]
    }
   ],
   "source": [
    "df = pd.read_csv('lstm.csv',converters={\"data\":lambda x: np.array(json.loads(x)),\n",
    "                                       \"snippet\":lambda x: np.array(json.loads(x))})\n",
    "print(df[\"idx\"].unique())\n",
    "df[\"class\"]=df[\"class\"].apply(lambda x: np.full(300, x))"
   ]
  },
  {
   "cell_type": "code",
   "execution_count": 3,
   "metadata": {},
   "outputs": [],
   "source": [
    "X=np.stack(df[[\"snippet\",\"data\",\"class\"]].apply(lambda x: np.stack(x.values),axis=1))\n",
    "y=df.true.values.reshape(-1,1)"
   ]
  },
  {
   "cell_type": "code",
   "execution_count": 4,
   "metadata": {},
   "outputs": [],
   "source": [
    "X_train, X_test, y_train, y_test = train_test_split(X, y, test_size=0.33, random_state=42)\n",
    "X_train, X_valid, y_train, y_valid = train_test_split(X_train, y_train, test_size=0.33, random_state=42)"
   ]
  },
  {
   "cell_type": "code",
   "execution_count": 5,
   "metadata": {},
   "outputs": [],
   "source": [
    "from keras.layers import TimeDistributed\n",
    "from keras.layers import Reshape\n",
    "from keras.layers import Conv2D,Lambda, Activation, LSTM\n",
    "from keras.utils import to_categorical\n",
    "from keras.models import Model,Input\n",
    "import keras \n",
    "import tensorflow as tf\n",
    "from keras.models import Sequential\n",
    "from keras.layers import Convolution2D, MaxPooling2D, Dropout, Flatten, Dense, Reshape,GlobalAveragePooling2D,AveragePooling2D\n",
    "from keras import backend as K\n",
    "from tensorflow.keras.layers import GRU,Reshape,Dropout"
   ]
  },
  {
   "cell_type": "code",
   "execution_count": 6,
   "metadata": {},
   "outputs": [
    {
     "name": "stdout",
     "output_type": "stream",
     "text": [
      "Model: \"model\"\n",
      "_________________________________________________________________\n",
      "Layer (type)                 Output Shape              Param #   \n",
      "=================================================================\n",
      "img_input (InputLayer)       [(None, 300, 1)]          0         \n",
      "_________________________________________________________________\n",
      "gru (GRU)                    (None, 128)               50304     \n",
      "_________________________________________________________________\n",
      "dropout (Dropout)            (None, 128)               0         \n",
      "_________________________________________________________________\n",
      "dense (Dense)                (None, 1)                 129       \n",
      "=================================================================\n",
      "Total params: 50,433\n",
      "Trainable params: 50,433\n",
      "Non-trainable params: 0\n",
      "_________________________________________________________________\n",
      "Model: \"model_1\"\n",
      "_________________________________________________________________\n",
      "Layer (type)                 Output Shape              Param #   \n",
      "=================================================================\n",
      "img_input (InputLayer)       [(None, 300, 2)]          0         \n",
      "_________________________________________________________________\n",
      "gru_1 (GRU)                  (None, 128)               50688     \n",
      "_________________________________________________________________\n",
      "dropout_1 (Dropout)          (None, 128)               0         \n",
      "_________________________________________________________________\n",
      "dense_1 (Dense)              (None, 1)                 129       \n",
      "=================================================================\n",
      "Total params: 50,817\n",
      "Trainable params: 50,817\n",
      "Non-trainable params: 0\n",
      "_________________________________________________________________\n",
      "Model: \"model_2\"\n",
      "_________________________________________________________________\n",
      "Layer (type)                 Output Shape              Param #   \n",
      "=================================================================\n",
      "img_input (InputLayer)       [(None, 301, 1)]          0         \n",
      "_________________________________________________________________\n",
      "gru_2 (GRU)                  (None, 128)               50304     \n",
      "_________________________________________________________________\n",
      "dropout_2 (Dropout)          (None, 128)               0         \n",
      "_________________________________________________________________\n",
      "dense_2 (Dense)              (None, 1)                 129       \n",
      "=================================================================\n",
      "Total params: 50,433\n",
      "Trainable params: 50,433\n",
      "Non-trainable params: 0\n",
      "_________________________________________________________________\n"
     ]
    }
   ],
   "source": [
    "def get_model():\n",
    "    model = Sequential()\n",
    "    input_layer = Input((300, 1),name=\"img_input\",dtype='float32')\n",
    "    output = GRU(128, kernel_initializer='he_normal',  activation='relu')(input_layer)\n",
    "    output = Dropout(0.2)(output)\n",
    "    output = Dense(1)(output)    \n",
    "    model = Model(inputs=input_layer, outputs=output)\n",
    "    model.summary() \n",
    "    model.compile(loss=\"mse\", optimizer=\"adam\")\n",
    "    \n",
    "    return model\n",
    "\n",
    "def get_model_snippet():\n",
    "    model = Sequential()\n",
    "    input_layer = Input((300,2),name=\"img_input\",dtype='float32')\n",
    "    output = GRU(128, kernel_initializer='he_normal',  activation='relu')(input_layer)\n",
    "    output = Dropout(0.2)(output)\n",
    "    output = Dense(1)(output)    \n",
    "    model = Model(inputs=input_layer, outputs=output)\n",
    "    model.summary() \n",
    "    model.compile(loss=\"mse\", optimizer=\"adam\")\n",
    "    return model\n",
    "    \n",
    "\n",
    "def get_model_class():\n",
    "    model = Sequential()\n",
    "    input_layer = Input((301,1),name=\"img_input\",dtype='float32')\n",
    "    output = GRU(128, kernel_initializer='he_normal',  activation='relu')(input_layer)\n",
    "    output = Dropout(0.2)(output)\n",
    "    output = Dense(1)(output)    \n",
    "    model = Model(inputs=input_layer, outputs=output)\n",
    "    model.summary() \n",
    "    model.compile(loss=\"mse\", optimizer=\"adam\")\n",
    "    return model\n",
    "    \n",
    "    return model\n",
    "model = get_model()\n",
    "model_snippet = get_model_snippet()\n",
    "model_class = get_model_class()"
   ]
  },
  {
   "cell_type": "code",
   "execution_count": 7,
   "metadata": {
    "scrolled": true
   },
   "outputs": [
    {
     "name": "stdout",
     "output_type": "stream",
     "text": [
      "Epoch 1/50\n",
      "121/121 [==============================] - 15s 110ms/step - loss: 6.4241 - val_loss: 2.5002\n",
      "Epoch 2/50\n",
      "121/121 [==============================] - 13s 110ms/step - loss: 3.4381 - val_loss: 2.5702\n",
      "Epoch 3/50\n",
      "121/121 [==============================] - 12s 99ms/step - loss: 2.9041 - val_loss: 2.1437\n",
      "Epoch 4/50\n",
      "121/121 [==============================] - 12s 100ms/step - loss: 2.3830 - val_loss: 2.2501\n",
      "Epoch 5/50\n",
      "121/121 [==============================] - 12s 99ms/step - loss: 2.3011 - val_loss: 1.8440\n",
      "Epoch 6/50\n",
      "121/121 [==============================] - 12s 99ms/step - loss: 1.9238 - val_loss: 1.7796\n",
      "Epoch 7/50\n",
      "121/121 [==============================] - 12s 102ms/step - loss: 1.9019 - val_loss: 1.7606\n",
      "Epoch 8/50\n",
      "121/121 [==============================] - 13s 104ms/step - loss: 1.7043 - val_loss: 1.6785\n",
      "Epoch 9/50\n",
      "121/121 [==============================] - 13s 104ms/step - loss: 1.8078 - val_loss: 1.8705\n",
      "Epoch 10/50\n",
      "121/121 [==============================] - 12s 103ms/step - loss: 1.5835 - val_loss: 1.6353\n",
      "Epoch 11/50\n",
      "121/121 [==============================] - 13s 104ms/step - loss: 1.6852 - val_loss: 1.7647\n",
      "Epoch 12/50\n",
      "121/121 [==============================] - 13s 104ms/step - loss: 1.4991 - val_loss: 1.9152\n",
      "Epoch 13/50\n",
      "121/121 [==============================] - 12s 103ms/step - loss: 1.6576 - val_loss: 1.7469\n",
      "Epoch 14/50\n",
      "121/121 [==============================] - 12s 103ms/step - loss: 1.3425 - val_loss: 1.4594\n",
      "Epoch 15/50\n",
      "121/121 [==============================] - 12s 103ms/step - loss: 1.3898 - val_loss: 1.6798\n",
      "Epoch 16/50\n",
      "121/121 [==============================] - 12s 103ms/step - loss: 1.3849 - val_loss: 1.5066\n",
      "Epoch 17/50\n",
      "121/121 [==============================] - 12s 98ms/step - loss: 1.4207 - val_loss: 1.4508\n",
      "Epoch 18/50\n",
      "121/121 [==============================] - 12s 99ms/step - loss: 1.0676 - val_loss: 1.3977\n",
      "Epoch 19/50\n",
      "121/121 [==============================] - 12s 98ms/step - loss: 1.2250 - val_loss: 1.4016\n",
      "Epoch 20/50\n",
      "121/121 [==============================] - 12s 98ms/step - loss: 1.2189 - val_loss: 1.5143\n",
      "Epoch 21/50\n",
      "121/121 [==============================] - 12s 98ms/step - loss: 1.1667 - val_loss: 1.2759\n",
      "Epoch 22/50\n",
      "121/121 [==============================] - 12s 101ms/step - loss: 1.0886 - val_loss: 1.3814\n",
      "Epoch 23/50\n",
      "121/121 [==============================] - 13s 107ms/step - loss: 1.1320 - val_loss: 1.4500\n",
      "Epoch 24/50\n",
      "121/121 [==============================] - 12s 99ms/step - loss: 1.0165 - val_loss: 1.3530\n",
      "Epoch 25/50\n",
      "121/121 [==============================] - 12s 98ms/step - loss: 0.9789 - val_loss: 1.9996\n",
      "Epoch 26/50\n",
      "121/121 [==============================] - 12s 99ms/step - loss: 0.9990 - val_loss: 1.3439\n",
      "Epoch 27/50\n",
      "121/121 [==============================] - 12s 98ms/step - loss: 0.9511 - val_loss: 1.8147\n",
      "Epoch 28/50\n",
      "121/121 [==============================] - 12s 98ms/step - loss: 1.0733 - val_loss: 1.6520\n",
      "Epoch 29/50\n",
      "121/121 [==============================] - 12s 98ms/step - loss: 1.3088 - val_loss: 1.4385\n",
      "Epoch 30/50\n",
      "121/121 [==============================] - 12s 98ms/step - loss: 0.9156 - val_loss: 1.3534\n",
      "Epoch 31/50\n",
      "121/121 [==============================] - 12s 99ms/step - loss: 0.9183 - val_loss: 1.3019\n",
      "Epoch 32/50\n",
      "121/121 [==============================] - 12s 98ms/step - loss: 0.8832 - val_loss: 1.2881\n",
      "Epoch 33/50\n",
      "121/121 [==============================] - 12s 100ms/step - loss: 0.8280 - val_loss: 1.2015\n",
      "Epoch 34/50\n",
      "121/121 [==============================] - 12s 98ms/step - loss: 0.9149 - val_loss: 1.3623\n",
      "Epoch 35/50\n",
      "121/121 [==============================] - 12s 98ms/step - loss: 0.7933 - val_loss: 1.3737\n",
      "Epoch 36/50\n",
      "121/121 [==============================] - 12s 99ms/step - loss: 0.8826 - val_loss: 1.4427\n",
      "Epoch 37/50\n",
      "121/121 [==============================] - 13s 104ms/step - loss: 0.8723 - val_loss: 1.3257\n",
      "Epoch 38/50\n",
      "121/121 [==============================] - 12s 98ms/step - loss: 0.8407 - val_loss: 1.2386\n",
      "Epoch 39/50\n",
      "121/121 [==============================] - 12s 98ms/step - loss: 0.7272 - val_loss: 1.2562\n",
      "Epoch 40/50\n",
      "121/121 [==============================] - 12s 99ms/step - loss: 0.7639 - val_loss: 1.2518\n",
      "Epoch 41/50\n",
      "121/121 [==============================] - 12s 98ms/step - loss: 0.7381 - val_loss: 1.4335\n",
      "Epoch 42/50\n",
      "121/121 [==============================] - 12s 98ms/step - loss: 0.7110 - val_loss: 1.2243\n",
      "Epoch 43/50\n",
      "121/121 [==============================] - 12s 102ms/step - loss: 0.8313 - val_loss: 1.1827\n",
      "Epoch 44/50\n",
      "121/121 [==============================] - 12s 103ms/step - loss: 0.7548 - val_loss: 1.3576\n",
      "Epoch 45/50\n",
      "121/121 [==============================] - 13s 108ms/step - loss: 0.9358 - val_loss: 1.5754\n",
      "Epoch 46/50\n",
      "121/121 [==============================] - 13s 106ms/step - loss: 0.6790 - val_loss: 1.3309\n",
      "Epoch 47/50\n",
      "121/121 [==============================] - 13s 104ms/step - loss: 0.7516 - val_loss: 1.2462\n",
      "Epoch 48/50\n",
      "121/121 [==============================] - 13s 103ms/step - loss: 0.8485 - val_loss: 1.2174\n",
      "Epoch 49/50\n",
      "121/121 [==============================] - 12s 101ms/step - loss: 0.6706 - val_loss: 1.1679\n",
      "Epoch 50/50\n",
      "121/121 [==============================] - 12s 101ms/step - loss: 0.7402 - val_loss: 1.4144\n"
     ]
    }
   ],
   "source": [
    "histor = model.fit(X_train[:,1],\n",
    "          y_train,\n",
    "          validation_data=(X_valid[:,1],y_valid),\n",
    "          #callbacks=[learning_rate_reduction], \n",
    "          batch_size=25, epochs=50)"
   ]
  },
  {
   "cell_type": "code",
   "execution_count": 9,
   "metadata": {
    "scrolled": true
   },
   "outputs": [
    {
     "name": "stdout",
     "output_type": "stream",
     "text": [
      "Epoch 1/50\n",
      "121/121 [==============================] - 13s 102ms/step - loss: 8.9353 - val_loss: 2.7763\n",
      "Epoch 2/50\n",
      "121/121 [==============================] - 12s 101ms/step - loss: 3.8501 - val_loss: 2.5612\n",
      "Epoch 3/50\n",
      "121/121 [==============================] - 12s 102ms/step - loss: 3.1046 - val_loss: 2.1788\n",
      "Epoch 4/50\n",
      "121/121 [==============================] - 12s 102ms/step - loss: 2.7614 - val_loss: 1.9981\n",
      "Epoch 5/50\n",
      "121/121 [==============================] - 12s 102ms/step - loss: 2.6180 - val_loss: 1.9778\n",
      "Epoch 6/50\n",
      "121/121 [==============================] - 12s 101ms/step - loss: 2.2796 - val_loss: 1.9807\n",
      "Epoch 7/50\n",
      "121/121 [==============================] - 12s 101ms/step - loss: 2.0914 - val_loss: 1.8453\n",
      "Epoch 8/50\n",
      "121/121 [==============================] - 12s 101ms/step - loss: 1.9008 - val_loss: 1.6785\n",
      "Epoch 9/50\n",
      "121/121 [==============================] - 12s 101ms/step - loss: 1.7990 - val_loss: 1.6983\n",
      "Epoch 10/50\n",
      "121/121 [==============================] - 12s 101ms/step - loss: 1.6167 - val_loss: 1.6396\n",
      "Epoch 11/50\n",
      "121/121 [==============================] - 12s 101ms/step - loss: 1.4139 - val_loss: 1.6956\n",
      "Epoch 12/50\n",
      "121/121 [==============================] - 12s 100ms/step - loss: 1.3531 - val_loss: 1.6709\n",
      "Epoch 13/50\n",
      "121/121 [==============================] - 12s 101ms/step - loss: 1.3556 - val_loss: 1.4846\n",
      "Epoch 14/50\n",
      "121/121 [==============================] - 12s 101ms/step - loss: 1.2826 - val_loss: 1.3989\n",
      "Epoch 15/50\n",
      "121/121 [==============================] - 12s 101ms/step - loss: 1.1750 - val_loss: 1.4346\n",
      "Epoch 16/50\n",
      "121/121 [==============================] - 12s 101ms/step - loss: 1.1694 - val_loss: 1.5090\n",
      "Epoch 17/50\n",
      "121/121 [==============================] - 12s 101ms/step - loss: 1.0344 - val_loss: 1.4794\n",
      "Epoch 18/50\n",
      "121/121 [==============================] - 12s 101ms/step - loss: 1.2136 - val_loss: 1.4439\n",
      "Epoch 19/50\n",
      "121/121 [==============================] - 12s 101ms/step - loss: 1.0368 - val_loss: 1.5343\n",
      "Epoch 20/50\n",
      "121/121 [==============================] - 12s 103ms/step - loss: 1.0337 - val_loss: 1.5428\n",
      "Epoch 21/50\n",
      "121/121 [==============================] - 13s 105ms/step - loss: 0.9805 - val_loss: 1.3022\n",
      "Epoch 22/50\n",
      "121/121 [==============================] - 12s 103ms/step - loss: 1.0502 - val_loss: 1.3813\n",
      "Epoch 23/50\n",
      "121/121 [==============================] - 12s 103ms/step - loss: 0.9357 - val_loss: 1.3425\n",
      "Epoch 24/50\n",
      "121/121 [==============================] - 12s 102ms/step - loss: 0.8879 - val_loss: 1.3518\n",
      "Epoch 25/50\n",
      "121/121 [==============================] - 12s 103ms/step - loss: 0.8487 - val_loss: 1.3452\n",
      "Epoch 26/50\n",
      "121/121 [==============================] - 13s 104ms/step - loss: 0.9247 - val_loss: 1.4254\n",
      "Epoch 27/50\n",
      "121/121 [==============================] - 12s 103ms/step - loss: 0.9198 - val_loss: 1.3898\n",
      "Epoch 28/50\n",
      "121/121 [==============================] - 12s 99ms/step - loss: 0.8696 - val_loss: 1.2812\n",
      "Epoch 29/50\n",
      "121/121 [==============================] - 12s 99ms/step - loss: 0.8068 - val_loss: 1.3305\n",
      "Epoch 30/50\n",
      "121/121 [==============================] - 12s 101ms/step - loss: 0.7639 - val_loss: 1.2597\n",
      "Epoch 31/50\n",
      "121/121 [==============================] - 12s 100ms/step - loss: 0.7522 - val_loss: 1.2943\n",
      "Epoch 32/50\n",
      "121/121 [==============================] - 12s 100ms/step - loss: 0.7190 - val_loss: 1.2403\n",
      "Epoch 33/50\n",
      "121/121 [==============================] - 12s 101ms/step - loss: 0.8001 - val_loss: 1.3879\n",
      "Epoch 34/50\n",
      "121/121 [==============================] - 12s 103ms/step - loss: 0.8185 - val_loss: 1.3605\n",
      "Epoch 35/50\n",
      "121/121 [==============================] - 12s 103ms/step - loss: 0.8407 - val_loss: 1.3789\n",
      "Epoch 36/50\n",
      "121/121 [==============================] - 12s 100ms/step - loss: 0.7709 - val_loss: 1.3357\n",
      "Epoch 37/50\n",
      "121/121 [==============================] - 12s 102ms/step - loss: 0.7018 - val_loss: 1.3805\n",
      "Epoch 38/50\n",
      "121/121 [==============================] - 12s 102ms/step - loss: 0.7040 - val_loss: 1.2667\n",
      "Epoch 39/50\n",
      "121/121 [==============================] - 12s 101ms/step - loss: 0.7157 - val_loss: 1.2179\n",
      "Epoch 40/50\n",
      "121/121 [==============================] - 12s 103ms/step - loss: 0.6595 - val_loss: 1.2807\n",
      "Epoch 41/50\n",
      "121/121 [==============================] - 12s 103ms/step - loss: 0.6583 - val_loss: 1.4098\n",
      "Epoch 42/50\n",
      "121/121 [==============================] - 13s 107ms/step - loss: 0.6500 - val_loss: 1.2604\n",
      "Epoch 43/50\n",
      "121/121 [==============================] - 13s 105ms/step - loss: 0.6372 - val_loss: 1.4633\n",
      "Epoch 44/50\n",
      "121/121 [==============================] - 13s 107ms/step - loss: 0.7420 - val_loss: 1.3124\n",
      "Epoch 45/50\n",
      "121/121 [==============================] - 13s 106ms/step - loss: 0.6258 - val_loss: 1.2232\n",
      "Epoch 46/50\n",
      "121/121 [==============================] - 12s 102ms/step - loss: 0.6151 - val_loss: 1.4866\n",
      "Epoch 47/50\n",
      "121/121 [==============================] - 13s 104ms/step - loss: 0.6602 - val_loss: 1.2503\n",
      "Epoch 48/50\n",
      "121/121 [==============================] - 12s 103ms/step - loss: 0.6508 - val_loss: 1.3643\n",
      "Epoch 49/50\n",
      "121/121 [==============================] - 12s 103ms/step - loss: 0.6308 - val_loss: 1.4053\n",
      "Epoch 50/50\n",
      "121/121 [==============================] - 12s 103ms/step - loss: 0.7159 - val_loss: 1.2863\n"
     ]
    }
   ],
   "source": [
    "\n",
    "histor_snipp = model_snippet.fit(X_train[:,0:2].reshape(-1,300,2),\n",
    "          y_train,\n",
    "          validation_data=(X_valid[:,0:2].reshape(-1,300,2),y_valid),\n",
    "          #callbacks=[learning_rate_reduction], \n",
    "          batch_size=25, epochs=50)"
   ]
  },
  {
   "cell_type": "code",
   "execution_count": 8,
   "metadata": {},
   "outputs": [
    {
     "data": {
      "text/plain": [
       "(3007, 2, 300)"
      ]
     },
     "execution_count": 8,
     "metadata": {},
     "output_type": "execute_result"
    }
   ],
   "source": [
    "X_train[:,0:2].shape"
   ]
  },
  {
   "cell_type": "code",
   "execution_count": 10,
   "metadata": {},
   "outputs": [
    {
     "data": {
      "text/plain": [
       "<matplotlib.legend.Legend at 0x20faa46a7c0>"
      ]
     },
     "execution_count": 10,
     "metadata": {},
     "output_type": "execute_result"
    },
    {
     "data": {
      "image/png": "[encoded data removed]",
      "text/plain": [
       "<Figure size 432x288 with 1 Axes>"
      ]
     },
     "metadata": {
      "needs_background": "light"
     },
     "output_type": "display_data"
    }
   ],
   "source": [
    "plt.plot(histor.history[\"loss\"],label=\"frame\")\n",
    "plt.plot(histor_snipp.history[\"loss\"],label=\"frame+snippet\")\n",
    "#plt.plot(histor_class.history[\"val_loss\"],label=\"frame+class\")\n",
    "plt.legend()"
   ]
  },
  {
   "cell_type": "code",
   "execution_count": 11,
   "metadata": {},
   "outputs": [
    {
     "data": {
      "text/plain": [
       "<matplotlib.legend.Legend at 0x20faa56f610>"
      ]
     },
     "execution_count": 11,
     "metadata": {},
     "output_type": "execute_result"
    },
    {
     "data": {
      "image/png": "[encoded data removed]",
      "text/plain": [
       "<Figure size 432x288 with 1 Axes>"
      ]
     },
     "metadata": {
      "needs_background": "light"
     },
     "output_type": "display_data"
    }
   ],
   "source": [
    "plt.plot(histor.history[\"val_loss\"],label=\"frame\")\n",
    "plt.plot(histor_snipp.history[\"val_loss\"],label=\"frame+snippet\")\n",
    "#plt.plot(histor_class.history[\"val_loss\"],label=\"frame+class\")\n",
    "\n",
    "plt.legend()"
   ]
  },
  {
   "cell_type": "code",
   "execution_count": 14,
   "metadata": {},
   "outputs": [
    {
     "data": {
      "text/plain": [
       "<matplotlib.legend.Legend at 0x20faa742070>"
      ]
     },
     "execution_count": 14,
     "metadata": {},
     "output_type": "execute_result"
    },
    {
     "data": {
      "image/png": "[encoded data removed]",
      "text/plain": [
       "<Figure size 432x288 with 1 Axes>"
      ]
     },
     "metadata": {
      "needs_background": "light"
     },
     "output_type": "display_data"
    }
   ],
   "source": [
    "plt.plot(pd.DataFrame(histor.history[\"val_loss\"]).rolling(window=1*10).mean(),label=\"frame\")\n",
    "plt.plot(pd.DataFrame(histor_snipp.history[\"val_loss\"]).rolling(window=1*10).mean(),label=\"frame+snippet\")\n",
    "#plt.plot(histor_class.history[\"val_loss\"],label=\"frame+class\")\n",
    "\n",
    "plt.legend()"
   ]
  },
  {
   "cell_type": "code",
   "execution_count": 12,
   "metadata": {},
   "outputs": [
    {
     "name": "stdout",
     "output_type": "stream",
     "text": [
      "mae frame:  0.7207164108651414\n",
      "mae frame_snippet:  0.7226427172010993\n"
     ]
    }
   ],
   "source": [
    "from sklearn.metrics import mean_absolute_error\n",
    "print(\"mae frame: \",mean_absolute_error(y_test, model.predict(X_test[:,1])))\n",
    "print(\"mae frame_snippet: \",mean_absolute_error(y_test, model_snippet.predict(X_test[:,0:2].reshape(-1,300,2))))"
   ]
  },
  {
   "cell_type": "code",
   "execution_count": 16,
   "metadata": {},
   "outputs": [
    {
     "name": "stdout",
     "output_type": "stream",
     "text": [
      "mse frame:  1.693018951303746\n",
      "mse frame_snippet:  1.542489515404029\n"
     ]
    }
   ],
   "source": [
    "from sklearn.metrics import mean_squared_error\n",
    "print(\"mse frame: \",mean_squared_error(y_test, model.predict(X_test[:,1])))\n",
    "print(\"mse frame_snippet: \",mean_squared_error(y_test, model_snippet.predict(X_test[:,0:2].reshape(-1,300,2))))"
   ]
  }
 ],
 "metadata": {
  "kernelspec": {
   "display_name": "Python 3",
   "language": "python",
   "name": "python3"
  },
  "language_info": {
   "codemirror_mode": {
    "name": "ipython",
    "version": 3
   },
   "file_extension": ".py",
   "mimetype": "text/x-python",
   "name": "python",
   "nbconvert_exporter": "python",
   "pygments_lexer": "ipython3",
   "version": "3.8.5"
  }
 },
 "nbformat": 4,
 "nbformat_minor": 4
}