{
 "cells": [
  {
   "cell_type": "code",
   "execution_count": 2,
   "metadata": {
    "pycharm": {
     "is_executing": false
    }
   },
   "outputs": [
    {
     "name": "stdout",
     "output_type": "stream",
     "text": [
      "Requirement already satisfied: seaborn in d:\\anaconda3\\lib\\site-packages (0.11.1)\n",
      "Requirement already satisfied: pandas>=0.23 in d:\\anaconda3\\lib\\site-packages (from seaborn) (1.2.4)\n",
      "Requirement already satisfied: matplotlib>=2.2 in d:\\anaconda3\\lib\\site-packages (from seaborn) (3.4.2)\n",
      "Requirement already satisfied: numpy>=1.15 in d:\\anaconda3\\lib\\site-packages (from seaborn) (1.20.1)\n",
      "Requirement already satisfied: scipy>=1.0 in d:\\anaconda3\\lib\\site-packages (from seaborn) (1.6.2)\n",
      "Requirement already satisfied: python-dateutil>=2.7 in d:\\anaconda3\\lib\\site-packages (from matplotlib>=2.2->seaborn) (2.8.1)\n",
      "Requirement already satisfied: pillow>=6.2.0 in d:\\anaconda3\\lib\\site-packages (from matplotlib>=2.2->seaborn) (8.2.0)\n",
      "Requirement already satisfied: cycler>=0.10 in d:\\anaconda3\\lib\\site-packages (from matplotlib>=2.2->seaborn) (0.10.0)\n",
      "Requirement already satisfied: pyparsing>=2.2.1 in d:\\anaconda3\\lib\\site-packages (from matplotlib>=2.2->seaborn) (2.4.7)\n",
      "Requirement already satisfied: kiwisolver>=1.0.1 in d:\\anaconda3\\lib\\site-packages (from matplotlib>=2.2->seaborn) (1.3.1)\n",
      "Requirement already satisfied: six in d:\\anaconda3\\lib\\site-packages (from cycler>=0.10->matplotlib>=2.2->seaborn) (1.16.0)\n",
      "Requirement already satisfied: pytz>=2017.3 in d:\\anaconda3\\lib\\site-packages (from pandas>=0.23->seaborn) (2021.1)\n"
     ]
    }
   ],
   "source": [
    "!pip install seaborn"
   ]
  },
  {
   "cell_type": "code",
   "execution_count": 6,
   "metadata": {
    "pycharm": {
     "is_executing": false
    }
   },
   "outputs": [],
   "source": [
    "from pathlib import Path\n",
    "import numpy as np\n",
    "import matplotlib.pyplot as plt\n",
    "from math import floor\n",
    "from dtw import dtw\n",
    "#from matrixprofile.discover import snippets\n",
    "import pandas as pd\n",
    "from pyts.image import RecurrencePlot\n",
    "#import tensorflow as tf\n",
    "import json\n",
    "from sklearn.model_selection import train_test_split\n",
    "import random"
   ]
  },
  {
   "cell_type": "code",
   "execution_count": 7,
   "metadata": {
    "pycharm": {
     "is_executing": false
    }
   },
   "outputs": [],
   "source": [
    "def from_np_array(array_string):\n",
    "    array_string = ','.join(array_string.replace('[ ', '[').split())\n",
    "    return np.array(ast.literal_eval(array_string))"
   ]
  },
  {
   "cell_type": "code",
   "execution_count": 16,
   "metadata": {
    "pycharm": {
     "is_executing": false
    }
   },
   "outputs": [],
   "source": [
    "p = Path(\"D:\\\\Study\\\\SANNI\\\\Dataset\\\\WalkRun1_80_3800_200.csv\")\n",
    "\n",
    "df = pd.read_csv(p,converters={\"neighbors\":json.loads})"
   ]
  },
  {
   "cell_type": "code",
   "execution_count": 48,
   "metadata": {},
   "outputs": [
    {
     "data": {
      "text/html": [
       "<div>\n",
       "<style scoped>\n",
       "    .dataframe tbody tr th:only-of-type {\n",
       "        vertical-align: middle;\n",
       "    }\n",
       "\n",
       "    .dataframe tbody tr th {\n",
       "        vertical-align: top;\n",
       "    }\n",
       "\n",
       "    .dataframe thead th {\n",
       "        text-align: right;\n",
       "    }\n",
       "</style>\n",
       "<table border=\"1\" class=\"dataframe\">\n",
       "  <thead>\n",
       "    <tr style=\"text-align: right;\">\n",
       "      <th></th>\n",
       "      <th>Unnamed: 0</th>\n",
       "      <th>key</th>\n",
       "      <th>snippet</th>\n",
       "      <th>fraction</th>\n",
       "      <th>neighbors</th>\n",
       "    </tr>\n",
       "  </thead>\n",
       "  <tbody>\n",
       "    <tr>\n",
       "      <th>0</th>\n",
       "      <td>0</td>\n",
       "      <td>0</td>\n",
       "      <td>[0.55714116 0.56319213 0.56522101 0.57919439 0...</td>\n",
       "      <td>0.311884</td>\n",
       "      <td>[[0.014993, -0.043289, -0.0039098, -0.038406, ...</td>\n",
       "    </tr>\n",
       "    <tr>\n",
       "      <th>1</th>\n",
       "      <td>1</td>\n",
       "      <td>1</td>\n",
       "      <td>[0.47102721 0.44296578 0.4652721  0.50352454 0...</td>\n",
       "      <td>0.430870</td>\n",
       "      <td>[[7.0488, 4.9723, 4.6134, 3.3802, 2.4563, 2.16...</td>\n",
       "    </tr>\n",
       "    <tr>\n",
       "      <th>2</th>\n",
       "      <td>2</td>\n",
       "      <td>2</td>\n",
       "      <td>[0.54415993 0.545161   0.54891279 0.55129218 0...</td>\n",
       "      <td>0.257536</td>\n",
       "      <td>[[-0.038406, 0.001217, 0.0039053, -0.0056399, ...</td>\n",
       "    </tr>\n",
       "  </tbody>\n",
       "</table>\n",
       "</div>"
      ],
      "text/plain": [
       "   Unnamed: 0  key                                            snippet  \\\n",
       "0           0    0  [0.55714116 0.56319213 0.56522101 0.57919439 0...   \n",
       "1           1    1  [0.47102721 0.44296578 0.4652721  0.50352454 0...   \n",
       "2           2    2  [0.54415993 0.545161   0.54891279 0.55129218 0...   \n",
       "\n",
       "   fraction                                          neighbors  \n",
       "0  0.311884  [[0.014993, -0.043289, -0.0039098, -0.038406, ...  \n",
       "1  0.430870  [[7.0488, 4.9723, 4.6134, 3.3802, 2.4563, 2.16...  \n",
       "2  0.257536  [[-0.038406, 0.001217, 0.0039053, -0.0056399, ...  "
      ]
     },
     "execution_count": 48,
     "metadata": {},
     "output_type": "execute_result"
    }
   ],
   "source": [
    "df"
   ]
  },
  {
   "cell_type": "code",
   "execution_count": 18,
   "metadata": {},
   "outputs": [
    {
     "name": "stderr",
     "output_type": "stream",
     "text": [
      "<ipython-input-18-44bfef0de257>:1: VisibleDeprecationWarning: Creating an ndarray from ragged nested sequences (which is a list-or-tuple of lists-or-tuples-or ndarrays with different lengths or shapes) is deprecated. If you meant to do this, you must specify 'dtype=object' when creating the ndarray.\n",
      "  subseq_count = [(i, len(np.array(df.neighbors.iloc[i]))) for i in range(0, len(df.neighbors))]\n"
     ]
    }
   ],
   "source": [
    "    subseq_count = [(i, len(np.array(df.neighbors.iloc[i]))) for i in range(0, len(df.neighbors))]\n",
    "    max_subseq_count = max([subseq_count[i][1] for i in range(0, len(subseq_count))])"
   ]
  },
  {
   "cell_type": "code",
   "execution_count": 19,
   "metadata": {},
   "outputs": [],
   "source": [
    "#в долях\n",
    "e = 0.01"
   ]
  },
  {
   "cell_type": "code",
   "execution_count": 90,
   "metadata": {},
   "outputs": [],
   "source": [
    "def augmentation(data: pd.DataFrame, e=0.01):\n",
    "    \"\"\"\n",
    "    Увеличение и балансировка соседей.\n",
    "    Все соседи сниппетов увеличиваются до количеста соседей у сниппета с максиальным fraction\n",
    "    :param data: dataframe, в котором хранятся сниппеты и их соседи\n",
    "    :param e: 0<e<1 процент, на который можно сдвинуть точку\n",
    "    :return: возвращается dataframe той же структуры, но со сбалансированными соседями\n",
    "    \"\"\"\n",
    "    subseq_count = [(i, len(np.array(data.neighbors.iloc[i]))) for i in range(0, len(data.neighbors))]\n",
    "    max_subseq_count = max([subseq_count[i][1] for i in range(0, len(subseq_count))])\n",
    "\n",
    "    new_neighbors_all = []\n",
    "    for cl in range(0, len(data.neighbors)):\n",
    "        if subseq_count[cl][1] == max_subseq_count:\n",
    "            new_neighbors_all.append(data.neighbors[cl].copy())\n",
    "            continue\n",
    "        neighbors = data.neighbors[cl].copy()\n",
    "        need_new_neighbors = (max_subseq_count - subseq_count[cl][1])\n",
    "        need_double_new = need_new_neighbors - subseq_count[cl][1] if need_new_neighbors - subseq_count[cl][\n",
    "            1] > 0 else 0\n",
    "        need_new_neighbors -= need_double_new\n",
    "        for i in range(0, need_new_neighbors):\n",
    "            new_neighbor = neighbors[i]\n",
    "            new_neighbor[random.randint(0, len(neighbors[i]) - 1)] *= 1 + random.uniform(-e, e)\n",
    "            neighbors.append(new_neighbor)\n",
    "            if need_double_new > 0:\n",
    "                new_neighbor = neighbors[i]\n",
    "                new_neighbor[random.randint(0, len(neighbors[i]) - 1)] *= 1 + random.uniform(-e, e)\n",
    "                neighbors.append(new_neighbor)\n",
    "                need_double_new -= 1\n",
    "        new_neighbors_all.append(neighbors)        \n",
    "        \n",
    "    data['neighbors'] = new_neighbors_all\n",
    "    return data\n",
    "    #return data"
   ]
  },
  {
   "cell_type": "code",
   "execution_count": 91,
   "metadata": {},
   "outputs": [
    {
     "name": "stderr",
     "output_type": "stream",
     "text": [
      "<ipython-input-90-09b0627e6f21>:9: VisibleDeprecationWarning: Creating an ndarray from ragged nested sequences (which is a list-or-tuple of lists-or-tuples-or ndarrays with different lengths or shapes) is deprecated. If you meant to do this, you must specify 'dtype=object' when creating the ndarray.\n",
      "  subseq_count = [(i, len(np.array(data.neighbors.iloc[i]))) for i in range(0, len(data.neighbors))]\n"
     ]
    }
   ],
   "source": [
    "d = augmentation(df)"
   ]
  },
  {
   "cell_type": "code",
   "execution_count": 92,
   "metadata": {},
   "outputs": [
    {
     "data": {
      "text/html": [
       "<div>\n",
       "<style scoped>\n",
       "    .dataframe tbody tr th:only-of-type {\n",
       "        vertical-align: middle;\n",
       "    }\n",
       "\n",
       "    .dataframe tbody tr th {\n",
       "        vertical-align: top;\n",
       "    }\n",
       "\n",
       "    .dataframe thead th {\n",
       "        text-align: right;\n",
       "    }\n",
       "</style>\n",
       "<table border=\"1\" class=\"dataframe\">\n",
       "  <thead>\n",
       "    <tr style=\"text-align: right;\">\n",
       "      <th></th>\n",
       "      <th>Unnamed: 0</th>\n",
       "      <th>key</th>\n",
       "      <th>snippet</th>\n",
       "      <th>fraction</th>\n",
       "      <th>neighbors</th>\n",
       "    </tr>\n",
       "  </thead>\n",
       "  <tbody>\n",
       "    <tr>\n",
       "      <th>0</th>\n",
       "      <td>0</td>\n",
       "      <td>0</td>\n",
       "      <td>[0.55714116 0.56319213 0.56522101 0.57919439 0...</td>\n",
       "      <td>0.311884</td>\n",
       "      <td>[[0.014993, -0.043289, -0.0039098, -0.038406, ...</td>\n",
       "    </tr>\n",
       "    <tr>\n",
       "      <th>1</th>\n",
       "      <td>1</td>\n",
       "      <td>1</td>\n",
       "      <td>[0.47102721 0.44296578 0.4652721  0.50352454 0...</td>\n",
       "      <td>0.430870</td>\n",
       "      <td>[[7.0488, 4.9723, 4.6134, 3.3802, 2.4563, 2.16...</td>\n",
       "    </tr>\n",
       "    <tr>\n",
       "      <th>2</th>\n",
       "      <td>2</td>\n",
       "      <td>2</td>\n",
       "      <td>[0.54415993 0.545161   0.54891279 0.55129218 0...</td>\n",
       "      <td>0.257536</td>\n",
       "      <td>[[-0.038406, 0.001217, 0.0039053, -0.0056399, ...</td>\n",
       "    </tr>\n",
       "  </tbody>\n",
       "</table>\n",
       "</div>"
      ],
      "text/plain": [
       "   Unnamed: 0  key                                            snippet  \\\n",
       "0           0    0  [0.55714116 0.56319213 0.56522101 0.57919439 0...   \n",
       "1           1    1  [0.47102721 0.44296578 0.4652721  0.50352454 0...   \n",
       "2           2    2  [0.54415993 0.545161   0.54891279 0.55129218 0...   \n",
       "\n",
       "   fraction                                          neighbors  \n",
       "0  0.311884  [[0.014993, -0.043289, -0.0039098, -0.038406, ...  \n",
       "1  0.430870  [[7.0488, 4.9723, 4.6134, 3.3802, 2.4563, 2.16...  \n",
       "2  0.257536  [[-0.038406, 0.001217, 0.0039053, -0.0056399, ...  "
      ]
     },
     "execution_count": 92,
     "metadata": {},
     "output_type": "execute_result"
    }
   ],
   "source": [
    "d"
   ]
  },
  {
   "cell_type": "code",
   "execution_count": 78,
   "metadata": {},
   "outputs": [],
   "source": [
    "df2 = df.copy()"
   ]
  },
  {
   "cell_type": "code",
   "execution_count": 77,
   "metadata": {
    "scrolled": true
   },
   "outputs": [
    {
     "data": {
      "text/html": [
       "<div>\n",
       "<style scoped>\n",
       "    .dataframe tbody tr th:only-of-type {\n",
       "        vertical-align: middle;\n",
       "    }\n",
       "\n",
       "    .dataframe tbody tr th {\n",
       "        vertical-align: top;\n",
       "    }\n",
       "\n",
       "    .dataframe thead th {\n",
       "        text-align: right;\n",
       "    }\n",
       "</style>\n",
       "<table border=\"1\" class=\"dataframe\">\n",
       "  <thead>\n",
       "    <tr style=\"text-align: right;\">\n",
       "      <th></th>\n",
       "      <th>Unnamed: 0</th>\n",
       "      <th>key</th>\n",
       "      <th>snippet</th>\n",
       "      <th>fraction</th>\n",
       "      <th>neighbors</th>\n",
       "    </tr>\n",
       "  </thead>\n",
       "  <tbody>\n",
       "    <tr>\n",
       "      <th>0</th>\n",
       "      <td>0</td>\n",
       "      <td>0</td>\n",
       "      <td>[0.55714116 0.56319213 0.56522101 0.57919439 0...</td>\n",
       "      <td>0.311884</td>\n",
       "      <td>[[0.014993, -0.043289, -0.0039098, -0.038406, ...</td>\n",
       "    </tr>\n",
       "    <tr>\n",
       "      <th>1</th>\n",
       "      <td>1</td>\n",
       "      <td>1</td>\n",
       "      <td>[0.47102721 0.44296578 0.4652721  0.50352454 0...</td>\n",
       "      <td>0.430870</td>\n",
       "      <td>[[7.0488, 4.9723, 4.6134, 3.3802, 2.4563, 2.16...</td>\n",
       "    </tr>\n",
       "    <tr>\n",
       "      <th>2</th>\n",
       "      <td>2</td>\n",
       "      <td>2</td>\n",
       "      <td>[0.54415993 0.545161   0.54891279 0.55129218 0...</td>\n",
       "      <td>0.257536</td>\n",
       "      <td>[[-0.038406, 0.001217, 0.0039053, -0.0056399, ...</td>\n",
       "    </tr>\n",
       "  </tbody>\n",
       "</table>\n",
       "</div>"
      ],
      "text/plain": [
       "   Unnamed: 0  key                                            snippet  \\\n",
       "0           0    0  [0.55714116 0.56319213 0.56522101 0.57919439 0...   \n",
       "1           1    1  [0.47102721 0.44296578 0.4652721  0.50352454 0...   \n",
       "2           2    2  [0.54415993 0.545161   0.54891279 0.55129218 0...   \n",
       "\n",
       "   fraction                                          neighbors  \n",
       "0  0.311884  [[0.014993, -0.043289, -0.0039098, -0.038406, ...  \n",
       "1  0.430870  [[7.0488, 4.9723, 4.6134, 3.3802, 2.4563, 2.16...  \n",
       "2  0.257536  [[-0.038406, 0.001217, 0.0039053, -0.0056399, ...  "
      ]
     },
     "execution_count": 77,
     "metadata": {},
     "output_type": "execute_result"
    }
   ],
   "source": [
    "df\n"
   ]
  },
  {
   "cell_type": "code",
   "execution_count": 79,
   "metadata": {},
   "outputs": [
    {
     "data": {
      "text/html": [
       "<div>\n",
       "<style scoped>\n",
       "    .dataframe tbody tr th:only-of-type {\n",
       "        vertical-align: middle;\n",
       "    }\n",
       "\n",
       "    .dataframe tbody tr th {\n",
       "        vertical-align: top;\n",
       "    }\n",
       "\n",
       "    .dataframe thead th {\n",
       "        text-align: right;\n",
       "    }\n",
       "</style>\n",
       "<table border=\"1\" class=\"dataframe\">\n",
       "  <thead>\n",
       "    <tr style=\"text-align: right;\">\n",
       "      <th></th>\n",
       "      <th>Unnamed: 0</th>\n",
       "      <th>key</th>\n",
       "      <th>snippet</th>\n",
       "      <th>fraction</th>\n",
       "      <th>neighbors</th>\n",
       "    </tr>\n",
       "  </thead>\n",
       "  <tbody>\n",
       "    <tr>\n",
       "      <th>0</th>\n",
       "      <td>0</td>\n",
       "      <td>0</td>\n",
       "      <td>[0.55714116 0.56319213 0.56522101 0.57919439 0...</td>\n",
       "      <td>0.311884</td>\n",
       "      <td>[[0.014993, -0.043289, -0.0039098, -0.038406, ...</td>\n",
       "    </tr>\n",
       "    <tr>\n",
       "      <th>1</th>\n",
       "      <td>1</td>\n",
       "      <td>1</td>\n",
       "      <td>[0.47102721 0.44296578 0.4652721  0.50352454 0...</td>\n",
       "      <td>0.430870</td>\n",
       "      <td>[[7.0488, 4.9723, 4.6134, 3.3802, 2.4563, 2.16...</td>\n",
       "    </tr>\n",
       "    <tr>\n",
       "      <th>2</th>\n",
       "      <td>2</td>\n",
       "      <td>2</td>\n",
       "      <td>[0.54415993 0.545161   0.54891279 0.55129218 0...</td>\n",
       "      <td>0.257536</td>\n",
       "      <td>[[-0.038406, 0.001217, 0.0039053, -0.0056399, ...</td>\n",
       "    </tr>\n",
       "  </tbody>\n",
       "</table>\n",
       "</div>"
      ],
      "text/plain": [
       "   Unnamed: 0  key                                            snippet  \\\n",
       "0           0    0  [0.55714116 0.56319213 0.56522101 0.57919439 0...   \n",
       "1           1    1  [0.47102721 0.44296578 0.4652721  0.50352454 0...   \n",
       "2           2    2  [0.54415993 0.545161   0.54891279 0.55129218 0...   \n",
       "\n",
       "   fraction                                          neighbors  \n",
       "0  0.311884  [[0.014993, -0.043289, -0.0039098, -0.038406, ...  \n",
       "1  0.430870  [[7.0488, 4.9723, 4.6134, 3.3802, 2.4563, 2.16...  \n",
       "2  0.257536  [[-0.038406, 0.001217, 0.0039053, -0.0056399, ...  "
      ]
     },
     "execution_count": 79,
     "metadata": {},
     "output_type": "execute_result"
    }
   ],
   "source": [
    "df2"
   ]
  },
  {
   "cell_type": "code",
   "execution_count": 80,
   "metadata": {},
   "outputs": [],
   "source": [
    "df2['neighbors'] = d"
   ]
  },
  {
   "cell_type": "code",
   "execution_count": 81,
   "metadata": {},
   "outputs": [
    {
     "data": {
      "text/html": [
       "<div>\n",
       "<style scoped>\n",
       "    .dataframe tbody tr th:only-of-type {\n",
       "        vertical-align: middle;\n",
       "    }\n",
       "\n",
       "    .dataframe tbody tr th {\n",
       "        vertical-align: top;\n",
       "    }\n",
       "\n",
       "    .dataframe thead th {\n",
       "        text-align: right;\n",
       "    }\n",
       "</style>\n",
       "<table border=\"1\" class=\"dataframe\">\n",
       "  <thead>\n",
       "    <tr style=\"text-align: right;\">\n",
       "      <th></th>\n",
       "      <th>Unnamed: 0</th>\n",
       "      <th>key</th>\n",
       "      <th>snippet</th>\n",
       "      <th>fraction</th>\n",
       "      <th>neighbors</th>\n",
       "    </tr>\n",
       "  </thead>\n",
       "  <tbody>\n",
       "    <tr>\n",
       "      <th>0</th>\n",
       "      <td>0</td>\n",
       "      <td>0</td>\n",
       "      <td>[0.55714116 0.56319213 0.56522101 0.57919439 0...</td>\n",
       "      <td>0.311884</td>\n",
       "      <td>[[0.014993, -0.043289, -0.0039098, -0.038406, ...</td>\n",
       "    </tr>\n",
       "    <tr>\n",
       "      <th>1</th>\n",
       "      <td>1</td>\n",
       "      <td>1</td>\n",
       "      <td>[0.47102721 0.44296578 0.4652721  0.50352454 0...</td>\n",
       "      <td>0.430870</td>\n",
       "      <td>[[7.0488, 4.9723, 4.6134, 3.3802, 2.4563, 2.16...</td>\n",
       "    </tr>\n",
       "    <tr>\n",
       "      <th>2</th>\n",
       "      <td>2</td>\n",
       "      <td>2</td>\n",
       "      <td>[0.54415993 0.545161   0.54891279 0.55129218 0...</td>\n",
       "      <td>0.257536</td>\n",
       "      <td>[[-0.038406, 0.001217, 0.0039053, -0.0056399, ...</td>\n",
       "    </tr>\n",
       "  </tbody>\n",
       "</table>\n",
       "</div>"
      ],
      "text/plain": [
       "   Unnamed: 0  key                                            snippet  \\\n",
       "0           0    0  [0.55714116 0.56319213 0.56522101 0.57919439 0...   \n",
       "1           1    1  [0.47102721 0.44296578 0.4652721  0.50352454 0...   \n",
       "2           2    2  [0.54415993 0.545161   0.54891279 0.55129218 0...   \n",
       "\n",
       "   fraction                                          neighbors  \n",
       "0  0.311884  [[0.014993, -0.043289, -0.0039098, -0.038406, ...  \n",
       "1  0.430870  [[7.0488, 4.9723, 4.6134, 3.3802, 2.4563, 2.16...  \n",
       "2  0.257536  [[-0.038406, 0.001217, 0.0039053, -0.0056399, ...  "
      ]
     },
     "execution_count": 81,
     "metadata": {},
     "output_type": "execute_result"
    }
   ],
   "source": [
    "df2"
   ]
  },
  {
   "cell_type": "code",
   "execution_count": null,
   "metadata": {},
   "outputs": [],
   "source": []
  },
  {
   "cell_type": "code",
   "execution_count": null,
   "metadata": {},
   "outputs": [],
   "source": []
  },
  {
   "cell_type": "code",
   "execution_count": null,
   "metadata": {},
   "outputs": [],
   "source": []
  }
 ],
 "metadata": {
  "kernelspec": {
   "display_name": "Python 3",
   "language": "python",
   "name": "python3"
  },
  "language_info": {
   "codemirror_mode": {
    "name": "ipython",
    "version": 3
   },
   "file_extension": ".py",
   "mimetype": "text/x-python",
   "name": "python",
   "nbconvert_exporter": "python",
   "pygments_lexer": "ipython3",
   "version": "3.8.5"
  },
  "pycharm": {
   "stem_cell": {
    "cell_type": "raw",
    "metadata": {
     "collapsed": false
    },
    "source": []
   }
  }
 },
 "nbformat": 4,
 "nbformat_minor": 4
}
